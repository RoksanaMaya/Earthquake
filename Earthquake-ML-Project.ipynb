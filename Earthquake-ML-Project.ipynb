{
 "cells": [
  {
   "cell_type": "code",
   "execution_count": 1,
   "metadata": {
    "id": "_Yba8vv0zjLp"
   },
   "outputs": [],
   "source": [
    "import numpy as np\n",
    "import pandas as pd"
   ]
  },
  {
   "cell_type": "code",
   "execution_count": 2,
   "metadata": {
    "id": "jKGy3njPzosp"
   },
   "outputs": [],
   "source": [
    "data = pd.read_csv(\"earthquak_preporcessed.csv\")"
   ]
  },
  {
   "cell_type": "code",
   "execution_count": 3,
   "metadata": {
    "colab": {
     "base_uri": "https://localhost:8080/",
     "height": 938
    },
    "id": "uyKfLTOwz2vk",
    "outputId": "325a59e8-ef6f-4529-c44f-f4d47f4c47af"
   },
   "outputs": [
    {
     "data": {
      "text/html": [
       "<div>\n",
       "<style scoped>\n",
       "    .dataframe tbody tr th:only-of-type {\n",
       "        vertical-align: middle;\n",
       "    }\n",
       "\n",
       "    .dataframe tbody tr th {\n",
       "        vertical-align: top;\n",
       "    }\n",
       "\n",
       "    .dataframe thead th {\n",
       "        text-align: right;\n",
       "    }\n",
       "</style>\n",
       "<table border=\"1\" class=\"dataframe\">\n",
       "  <thead>\n",
       "    <tr style=\"text-align: right;\">\n",
       "      <th></th>\n",
       "      <th>title</th>\n",
       "      <th>magnitude</th>\n",
       "      <th>date_time</th>\n",
       "      <th>cdi</th>\n",
       "      <th>mmi</th>\n",
       "      <th>alert</th>\n",
       "      <th>tsunami</th>\n",
       "      <th>sig</th>\n",
       "      <th>net</th>\n",
       "      <th>nst</th>\n",
       "      <th>dmin</th>\n",
       "      <th>gap</th>\n",
       "      <th>magType</th>\n",
       "      <th>depth</th>\n",
       "      <th>latitude</th>\n",
       "      <th>longitude</th>\n",
       "      <th>location</th>\n",
       "      <th>continent</th>\n",
       "      <th>country</th>\n",
       "    </tr>\n",
       "  </thead>\n",
       "  <tbody>\n",
       "    <tr>\n",
       "      <th>42</th>\n",
       "      <td>M 7.0 - 95 km ENE of Kuril’sk, Russia</td>\n",
       "      <td>7.0</td>\n",
       "      <td>13-02-2020 10:33</td>\n",
       "      <td>5</td>\n",
       "      <td>6</td>\n",
       "      <td>yellow</td>\n",
       "      <td>1</td>\n",
       "      <td>770</td>\n",
       "      <td>us</td>\n",
       "      <td>0</td>\n",
       "      <td>4.501</td>\n",
       "      <td>25.0</td>\n",
       "      <td>mww</td>\n",
       "      <td>143.00</td>\n",
       "      <td>45.6161</td>\n",
       "      <td>148.9590</td>\n",
       "      <td>Kuril’sk, Russia</td>\n",
       "      <td>Asia</td>\n",
       "      <td>Russia</td>\n",
       "    </tr>\n",
       "    <tr>\n",
       "      <th>111</th>\n",
       "      <td>M 6.8 - 54 km N of Vallenar, Chile</td>\n",
       "      <td>6.8</td>\n",
       "      <td>30-01-2013 20:15</td>\n",
       "      <td>6</td>\n",
       "      <td>7</td>\n",
       "      <td>green</td>\n",
       "      <td>0</td>\n",
       "      <td>771</td>\n",
       "      <td>us</td>\n",
       "      <td>596</td>\n",
       "      <td>0.000</td>\n",
       "      <td>19.3</td>\n",
       "      <td>mww</td>\n",
       "      <td>45.00</td>\n",
       "      <td>-28.0940</td>\n",
       "      <td>-70.6530</td>\n",
       "      <td>Vallenar, Chile</td>\n",
       "      <td>South America</td>\n",
       "      <td>Chile</td>\n",
       "    </tr>\n",
       "    <tr>\n",
       "      <th>90</th>\n",
       "      <td>M 6.7 - 21 km SSE of Kod?ri??, Nepal</td>\n",
       "      <td>6.7</td>\n",
       "      <td>26-04-2015 07:09</td>\n",
       "      <td>7</td>\n",
       "      <td>7</td>\n",
       "      <td>yellow</td>\n",
       "      <td>0</td>\n",
       "      <td>1016</td>\n",
       "      <td>us</td>\n",
       "      <td>0</td>\n",
       "      <td>0.727</td>\n",
       "      <td>13.0</td>\n",
       "      <td>mww</td>\n",
       "      <td>22.91</td>\n",
       "      <td>27.7711</td>\n",
       "      <td>86.0173</td>\n",
       "      <td>Kod?ri??, Nepal</td>\n",
       "      <td>Asia</td>\n",
       "      <td>Nepal</td>\n",
       "    </tr>\n",
       "    <tr>\n",
       "      <th>14</th>\n",
       "      <td>M 6.5 - 96 km SE of Lugu, Taiwan</td>\n",
       "      <td>6.5</td>\n",
       "      <td>17-09-2022 13:41</td>\n",
       "      <td>7</td>\n",
       "      <td>7</td>\n",
       "      <td>green</td>\n",
       "      <td>1</td>\n",
       "      <td>756</td>\n",
       "      <td>us</td>\n",
       "      <td>178</td>\n",
       "      <td>0.430</td>\n",
       "      <td>54.0</td>\n",
       "      <td>mww</td>\n",
       "      <td>10.00</td>\n",
       "      <td>23.0290</td>\n",
       "      <td>121.3480</td>\n",
       "      <td>Lugu, Taiwan</td>\n",
       "      <td>Asia</td>\n",
       "      <td>Taiwan</td>\n",
       "    </tr>\n",
       "    <tr>\n",
       "      <th>22</th>\n",
       "      <td>M 6.7 - 166 km W of Pariaman, Indonesia</td>\n",
       "      <td>6.7</td>\n",
       "      <td>13-03-2022 21:09</td>\n",
       "      <td>9</td>\n",
       "      <td>6</td>\n",
       "      <td>green</td>\n",
       "      <td>0</td>\n",
       "      <td>708</td>\n",
       "      <td>us</td>\n",
       "      <td>0</td>\n",
       "      <td>2.188</td>\n",
       "      <td>43.0</td>\n",
       "      <td>mww</td>\n",
       "      <td>28.00</td>\n",
       "      <td>-0.6831</td>\n",
       "      <td>98.6034</td>\n",
       "      <td>Pariaman, Indonesia</td>\n",
       "      <td>Asia</td>\n",
       "      <td>Indonesia</td>\n",
       "    </tr>\n",
       "    <tr>\n",
       "      <th>33</th>\n",
       "      <td>M 7.3 - Southern Qinghai, China</td>\n",
       "      <td>7.3</td>\n",
       "      <td>21-05-2021 18:04</td>\n",
       "      <td>9</td>\n",
       "      <td>9</td>\n",
       "      <td>orange</td>\n",
       "      <td>0</td>\n",
       "      <td>1025</td>\n",
       "      <td>us</td>\n",
       "      <td>0</td>\n",
       "      <td>4.655</td>\n",
       "      <td>9.0</td>\n",
       "      <td>mww</td>\n",
       "      <td>10.00</td>\n",
       "      <td>34.5861</td>\n",
       "      <td>98.2551</td>\n",
       "      <td>Southern Qinghai, China</td>\n",
       "      <td>Asia</td>\n",
       "      <td>People's Republic of China</td>\n",
       "    </tr>\n",
       "    <tr>\n",
       "      <th>62</th>\n",
       "      <td>M 6.6 - 81 km NNE of Ust’-Kamchatsk Staryy, Ru...</td>\n",
       "      <td>6.6</td>\n",
       "      <td>29-03-2017 04:09</td>\n",
       "      <td>6</td>\n",
       "      <td>7</td>\n",
       "      <td>yellow</td>\n",
       "      <td>1</td>\n",
       "      <td>671</td>\n",
       "      <td>us</td>\n",
       "      <td>0</td>\n",
       "      <td>4.591</td>\n",
       "      <td>14.0</td>\n",
       "      <td>mww</td>\n",
       "      <td>17.00</td>\n",
       "      <td>56.9401</td>\n",
       "      <td>162.7860</td>\n",
       "      <td>Ust’-Kamchatsk Staryy, Russia</td>\n",
       "      <td>Asia</td>\n",
       "      <td>Russia</td>\n",
       "    </tr>\n",
       "    <tr>\n",
       "      <th>108</th>\n",
       "      <td>M 6.6 - 183 km SW of Belaya Gora, Russia</td>\n",
       "      <td>6.6</td>\n",
       "      <td>14-02-2013 13:13</td>\n",
       "      <td>0</td>\n",
       "      <td>7</td>\n",
       "      <td>green</td>\n",
       "      <td>1</td>\n",
       "      <td>670</td>\n",
       "      <td>us</td>\n",
       "      <td>697</td>\n",
       "      <td>0.000</td>\n",
       "      <td>15.3</td>\n",
       "      <td>mww</td>\n",
       "      <td>11.00</td>\n",
       "      <td>67.6310</td>\n",
       "      <td>142.5080</td>\n",
       "      <td>Belaya Gora, Russia</td>\n",
       "      <td>Asia</td>\n",
       "      <td>Russia</td>\n",
       "    </tr>\n",
       "    <tr>\n",
       "      <th>106</th>\n",
       "      <td>M 6.5 - 87 km SE of Ozernovskiy, Russia</td>\n",
       "      <td>6.5</td>\n",
       "      <td>01-03-2013 13:20</td>\n",
       "      <td>3</td>\n",
       "      <td>6</td>\n",
       "      <td>green</td>\n",
       "      <td>0</td>\n",
       "      <td>651</td>\n",
       "      <td>us</td>\n",
       "      <td>480</td>\n",
       "      <td>0.000</td>\n",
       "      <td>20.7</td>\n",
       "      <td>mww</td>\n",
       "      <td>29.00</td>\n",
       "      <td>50.9580</td>\n",
       "      <td>157.4080</td>\n",
       "      <td>Ozernovskiy, Russia</td>\n",
       "      <td>Asia</td>\n",
       "      <td>Russia</td>\n",
       "    </tr>\n",
       "    <tr>\n",
       "      <th>68</th>\n",
       "      <td>M 6.8 - 26 km W of Chauk, Myanmar</td>\n",
       "      <td>6.8</td>\n",
       "      <td>24-08-2016 10:34</td>\n",
       "      <td>6</td>\n",
       "      <td>6</td>\n",
       "      <td>yellow</td>\n",
       "      <td>0</td>\n",
       "      <td>981</td>\n",
       "      <td>us</td>\n",
       "      <td>0</td>\n",
       "      <td>1.802</td>\n",
       "      <td>17.0</td>\n",
       "      <td>mww</td>\n",
       "      <td>82.00</td>\n",
       "      <td>20.9228</td>\n",
       "      <td>94.5690</td>\n",
       "      <td>Chauk, Myanmar</td>\n",
       "      <td>Asia</td>\n",
       "      <td>Myanmar</td>\n",
       "    </tr>\n",
       "  </tbody>\n",
       "</table>\n",
       "</div>"
      ],
      "text/plain": [
       "                                                 title  magnitude  \\\n",
       "42               M 7.0 - 95 km ENE of Kuril’sk, Russia        7.0   \n",
       "111                 M 6.8 - 54 km N of Vallenar, Chile        6.8   \n",
       "90                M 6.7 - 21 km SSE of Kod?ri??, Nepal        6.7   \n",
       "14                    M 6.5 - 96 km SE of Lugu, Taiwan        6.5   \n",
       "22             M 6.7 - 166 km W of Pariaman, Indonesia        6.7   \n",
       "33                     M 7.3 - Southern Qinghai, China        7.3   \n",
       "62   M 6.6 - 81 km NNE of Ust’-Kamchatsk Staryy, Ru...        6.6   \n",
       "108           M 6.6 - 183 km SW of Belaya Gora, Russia        6.6   \n",
       "106            M 6.5 - 87 km SE of Ozernovskiy, Russia        6.5   \n",
       "68                   M 6.8 - 26 km W of Chauk, Myanmar        6.8   \n",
       "\n",
       "            date_time  cdi  mmi   alert  tsunami   sig net  nst   dmin   gap  \\\n",
       "42   13-02-2020 10:33    5    6  yellow        1   770  us    0  4.501  25.0   \n",
       "111  30-01-2013 20:15    6    7   green        0   771  us  596  0.000  19.3   \n",
       "90   26-04-2015 07:09    7    7  yellow        0  1016  us    0  0.727  13.0   \n",
       "14   17-09-2022 13:41    7    7   green        1   756  us  178  0.430  54.0   \n",
       "22   13-03-2022 21:09    9    6   green        0   708  us    0  2.188  43.0   \n",
       "33   21-05-2021 18:04    9    9  orange        0  1025  us    0  4.655   9.0   \n",
       "62   29-03-2017 04:09    6    7  yellow        1   671  us    0  4.591  14.0   \n",
       "108  14-02-2013 13:13    0    7   green        1   670  us  697  0.000  15.3   \n",
       "106  01-03-2013 13:20    3    6   green        0   651  us  480  0.000  20.7   \n",
       "68   24-08-2016 10:34    6    6  yellow        0   981  us    0  1.802  17.0   \n",
       "\n",
       "    magType   depth  latitude  longitude                       location  \\\n",
       "42      mww  143.00   45.6161   148.9590               Kuril’sk, Russia   \n",
       "111     mww   45.00  -28.0940   -70.6530                Vallenar, Chile   \n",
       "90      mww   22.91   27.7711    86.0173                Kod?ri??, Nepal   \n",
       "14      mww   10.00   23.0290   121.3480                   Lugu, Taiwan   \n",
       "22      mww   28.00   -0.6831    98.6034            Pariaman, Indonesia   \n",
       "33      mww   10.00   34.5861    98.2551        Southern Qinghai, China   \n",
       "62      mww   17.00   56.9401   162.7860  Ust’-Kamchatsk Staryy, Russia   \n",
       "108     mww   11.00   67.6310   142.5080            Belaya Gora, Russia   \n",
       "106     mww   29.00   50.9580   157.4080            Ozernovskiy, Russia   \n",
       "68      mww   82.00   20.9228    94.5690                 Chauk, Myanmar   \n",
       "\n",
       "         continent                     country  \n",
       "42            Asia                      Russia  \n",
       "111  South America                       Chile  \n",
       "90            Asia                       Nepal  \n",
       "14            Asia                      Taiwan  \n",
       "22            Asia                   Indonesia  \n",
       "33            Asia  People's Republic of China  \n",
       "62            Asia                      Russia  \n",
       "108           Asia                      Russia  \n",
       "106           Asia                      Russia  \n",
       "68            Asia                     Myanmar  "
      ]
     },
     "execution_count": 3,
     "metadata": {},
     "output_type": "execute_result"
    }
   ],
   "source": [
    "data.sample(10)"
   ]
  },
  {
   "cell_type": "code",
   "execution_count": 4,
   "metadata": {
    "colab": {
     "base_uri": "https://localhost:8080/"
    },
    "id": "TT749Mxm0Lad",
    "outputId": "c53c630b-eed2-43f5-edf4-a245a89b2e21"
   },
   "outputs": [
    {
     "data": {
      "text/plain": [
       "title        0\n",
       "magnitude    0\n",
       "date_time    0\n",
       "cdi          0\n",
       "mmi          0\n",
       "alert        0\n",
       "tsunami      0\n",
       "sig          0\n",
       "net          0\n",
       "nst          0\n",
       "dmin         0\n",
       "gap          0\n",
       "magType      0\n",
       "depth        0\n",
       "latitude     0\n",
       "longitude    0\n",
       "location     0\n",
       "continent    0\n",
       "country      0\n",
       "dtype: int64"
      ]
     },
     "execution_count": 4,
     "metadata": {},
     "output_type": "execute_result"
    }
   ],
   "source": [
    "data.isnull().sum()"
   ]
  },
  {
   "cell_type": "code",
   "execution_count": 5,
   "metadata": {},
   "outputs": [],
   "source": [
    "converted_dates = pd.to_datetime(data[\"date_time\"], format='%d-%m-%Y %H:%M')\n",
    "\n",
    "\n",
    "formatted_dates = converted_dates.dt.strftime('%Y-%m-%d')\n",
    "\n",
    "data[\"date_time\"] = formatted_dates"
   ]
  },
  {
   "cell_type": "markdown",
   "metadata": {
    "id": "i6aH2smLQvMC"
   },
   "source": [
    "# Linear regression for Future earthquake prediction"
   ]
  },
  {
   "cell_type": "code",
   "execution_count": 6,
   "metadata": {
    "id": "3XUBflglPfBy"
   },
   "outputs": [],
   "source": [
    "\n",
    "from sklearn.model_selection import train_test_split\n",
    "from sklearn.linear_model import LinearRegression\n",
    "from sklearn.preprocessing import StandardScaler\n",
    "from sklearn.metrics import mean_squared_error, r2_score\n",
    "from datetime import datetime, timedelta\n"
   ]
  },
  {
   "cell_type": "code",
   "execution_count": 7,
   "metadata": {
    "id": "qOhtYDunPii5"
   },
   "outputs": [],
   "source": [
    "data['timestamp'] = data['date_time'].apply(lambda x: datetime.strptime(x, '%Y-%m-%d').timestamp())\n",
    "data['year'] = pd.to_datetime(data['date_time']).dt.year\n",
    "data['month'] = pd.to_datetime(data['date_time']).dt.month\n",
    "data['day'] = pd.to_datetime(data['date_time']).dt.day\n",
    "data['weekday'] = pd.to_datetime(data['date_time']).dt.weekday\n"
   ]
  },
  {
   "cell_type": "code",
   "execution_count": 8,
   "metadata": {
    "id": "gAdn_Q39PlQE"
   },
   "outputs": [],
   "source": [
    "features = ['latitude', 'longitude', 'timestamp', 'year', 'month', 'day', 'weekday', 'cdi', 'mmi', 'tsunami', 'sig', 'nst', 'dmin', 'gap', 'depth']\n",
    "target = 'magnitude'\n",
    "\n",
    "X = data[features]\n",
    "y = data[target]\n"
   ]
  },
  {
   "cell_type": "code",
   "execution_count": 9,
   "metadata": {
    "colab": {
     "base_uri": "https://localhost:8080/",
     "height": 74
    },
    "id": "0DORyp_K4OOH",
    "outputId": "800fcd9d-158f-47da-c999-a8dbc7516eeb"
   },
   "outputs": [
    {
     "data": {
      "text/html": [
       "<style>#sk-container-id-1 {color: black;}#sk-container-id-1 pre{padding: 0;}#sk-container-id-1 div.sk-toggleable {background-color: white;}#sk-container-id-1 label.sk-toggleable__label {cursor: pointer;display: block;width: 100%;margin-bottom: 0;padding: 0.3em;box-sizing: border-box;text-align: center;}#sk-container-id-1 label.sk-toggleable__label-arrow:before {content: \"▸\";float: left;margin-right: 0.25em;color: #696969;}#sk-container-id-1 label.sk-toggleable__label-arrow:hover:before {color: black;}#sk-container-id-1 div.sk-estimator:hover label.sk-toggleable__label-arrow:before {color: black;}#sk-container-id-1 div.sk-toggleable__content {max-height: 0;max-width: 0;overflow: hidden;text-align: left;background-color: #f0f8ff;}#sk-container-id-1 div.sk-toggleable__content pre {margin: 0.2em;color: black;border-radius: 0.25em;background-color: #f0f8ff;}#sk-container-id-1 input.sk-toggleable__control:checked~div.sk-toggleable__content {max-height: 200px;max-width: 100%;overflow: auto;}#sk-container-id-1 input.sk-toggleable__control:checked~label.sk-toggleable__label-arrow:before {content: \"▾\";}#sk-container-id-1 div.sk-estimator input.sk-toggleable__control:checked~label.sk-toggleable__label {background-color: #d4ebff;}#sk-container-id-1 div.sk-label input.sk-toggleable__control:checked~label.sk-toggleable__label {background-color: #d4ebff;}#sk-container-id-1 input.sk-hidden--visually {border: 0;clip: rect(1px 1px 1px 1px);clip: rect(1px, 1px, 1px, 1px);height: 1px;margin: -1px;overflow: hidden;padding: 0;position: absolute;width: 1px;}#sk-container-id-1 div.sk-estimator {font-family: monospace;background-color: #f0f8ff;border: 1px dotted black;border-radius: 0.25em;box-sizing: border-box;margin-bottom: 0.5em;}#sk-container-id-1 div.sk-estimator:hover {background-color: #d4ebff;}#sk-container-id-1 div.sk-parallel-item::after {content: \"\";width: 100%;border-bottom: 1px solid gray;flex-grow: 1;}#sk-container-id-1 div.sk-label:hover label.sk-toggleable__label {background-color: #d4ebff;}#sk-container-id-1 div.sk-serial::before {content: \"\";position: absolute;border-left: 1px solid gray;box-sizing: border-box;top: 0;bottom: 0;left: 50%;z-index: 0;}#sk-container-id-1 div.sk-serial {display: flex;flex-direction: column;align-items: center;background-color: white;padding-right: 0.2em;padding-left: 0.2em;position: relative;}#sk-container-id-1 div.sk-item {position: relative;z-index: 1;}#sk-container-id-1 div.sk-parallel {display: flex;align-items: stretch;justify-content: center;background-color: white;position: relative;}#sk-container-id-1 div.sk-item::before, #sk-container-id-1 div.sk-parallel-item::before {content: \"\";position: absolute;border-left: 1px solid gray;box-sizing: border-box;top: 0;bottom: 0;left: 50%;z-index: -1;}#sk-container-id-1 div.sk-parallel-item {display: flex;flex-direction: column;z-index: 1;position: relative;background-color: white;}#sk-container-id-1 div.sk-parallel-item:first-child::after {align-self: flex-end;width: 50%;}#sk-container-id-1 div.sk-parallel-item:last-child::after {align-self: flex-start;width: 50%;}#sk-container-id-1 div.sk-parallel-item:only-child::after {width: 0;}#sk-container-id-1 div.sk-dashed-wrapped {border: 1px dashed gray;margin: 0 0.4em 0.5em 0.4em;box-sizing: border-box;padding-bottom: 0.4em;background-color: white;}#sk-container-id-1 div.sk-label label {font-family: monospace;font-weight: bold;display: inline-block;line-height: 1.2em;}#sk-container-id-1 div.sk-label-container {text-align: center;}#sk-container-id-1 div.sk-container {/* jupyter's `normalize.less` sets `[hidden] { display: none; }` but bootstrap.min.css set `[hidden] { display: none !important; }` so we also need the `!important` here to be able to override the default hidden behavior on the sphinx rendered scikit-learn.org. See: https://github.com/scikit-learn/scikit-learn/issues/21755 */display: inline-block !important;position: relative;}#sk-container-id-1 div.sk-text-repr-fallback {display: none;}</style><div id=\"sk-container-id-1\" class=\"sk-top-container\"><div class=\"sk-text-repr-fallback\"><pre>LinearRegression()</pre><b>In a Jupyter environment, please rerun this cell to show the HTML representation or trust the notebook. <br />On GitHub, the HTML representation is unable to render, please try loading this page with nbviewer.org.</b></div><div class=\"sk-container\" hidden><div class=\"sk-item\"><div class=\"sk-estimator sk-toggleable\"><input class=\"sk-toggleable__control sk-hidden--visually\" id=\"sk-estimator-id-1\" type=\"checkbox\" checked><label for=\"sk-estimator-id-1\" class=\"sk-toggleable__label sk-toggleable__label-arrow\">LinearRegression</label><div class=\"sk-toggleable__content\"><pre>LinearRegression()</pre></div></div></div></div></div>"
      ],
      "text/plain": [
       "LinearRegression()"
      ]
     },
     "execution_count": 9,
     "metadata": {},
     "output_type": "execute_result"
    }
   ],
   "source": [
    "scaler = StandardScaler()\n",
    "X_scaled = scaler.fit_transform(X)\n",
    "\n",
    "\n",
    "model = LinearRegression()\n",
    "model.fit(X_scaled, y)\n",
    "\n",
    "\n"
   ]
  },
  {
   "cell_type": "code",
   "execution_count": 10,
   "metadata": {
    "colab": {
     "base_uri": "https://localhost:8080/"
    },
    "id": "U0860VeTPp_L",
    "outputId": "530c12fe-ba24-4de1-d9fc-c866748d1609"
   },
   "outputs": [
    {
     "name": "stdout",
     "output_type": "stream",
     "text": [
      "The predicted magnitude for 2024-01-01 at latitude 40.7128 and longitude -74.006 is: 5.02705222282823\n"
     ]
    },
    {
     "name": "stderr",
     "output_type": "stream",
     "text": [
      "C:\\Users\\Asus\\anaconda3\\Lib\\site-packages\\sklearn\\base.py:464: UserWarning: X does not have valid feature names, but StandardScaler was fitted with feature names\n",
      "  warnings.warn(\n"
     ]
    }
   ],
   "source": [
    "def predict_future_magnitude(model, date, latitude, longitude):\n",
    "    future_date_timestamp = datetime.strptime(date, '%Y-%m-%d').timestamp()\n",
    "    future_year = pd.to_datetime(date).year\n",
    "    future_month = pd.to_datetime(date).month\n",
    "    future_day = pd.to_datetime(date).day\n",
    "    future_weekday = pd.to_datetime(date).weekday()\n",
    "\n",
    "    future_features = [latitude, longitude, future_date_timestamp, future_year, future_month, future_day, future_weekday, 0, 0, 0, 0, 0, 0, 0, 0]\n",
    "\n",
    "    scaled_features = scaler.transform([future_features])\n",
    "\n",
    "    predicted_magnitude = model.predict(scaled_features)\n",
    "    return predicted_magnitude[0]\n",
    "\n",
    "future_date = '2024-01-01'\n",
    "latitude_value = 40.7128\n",
    "longitude_value = -74.0060\n",
    "\n",
    "predicted_future_magnitude = predict_future_magnitude(model, future_date, latitude_value, longitude_value)\n",
    "print(f\"The predicted magnitude for {future_date} at latitude {latitude_value} and longitude {longitude_value} is: {predicted_future_magnitude}\")\n"
   ]
  },
  {
   "cell_type": "markdown",
   "metadata": {
    "id": "4vi5fJzrPwUR"
   },
   "source": [
    "# Logistic Regression for Tsunami prediction (probability of ocanic earthquake)"
   ]
  },
  {
   "cell_type": "code",
   "execution_count": 19,
   "metadata": {
    "colab": {
     "base_uri": "https://localhost:8080/"
    },
    "id": "RMCnOpfuNrj3",
    "outputId": "1c72bd24-31dc-49fe-dd8d-ebc3664df87f"
   },
   "outputs": [
    {
     "name": "stdout",
     "output_type": "stream",
     "text": [
      "Accuracy: 0.57\n",
      "Classification Report:\n",
      "              precision    recall  f1-score   support\n",
      "\n",
      "           0       0.67      0.33      0.44        12\n",
      "           1       0.53      0.82      0.64        11\n",
      "\n",
      "    accuracy                           0.57        23\n",
      "   macro avg       0.60      0.58      0.54        23\n",
      "weighted avg       0.60      0.57      0.54        23\n",
      "\n",
      "Confusion Matrix:\n",
      "[[4 8]\n",
      " [2 9]]\n"
     ]
    }
   ],
   "source": [
    "import pandas as pd\n",
    "from sklearn.model_selection import train_test_split\n",
    "from sklearn.linear_model import LogisticRegression\n",
    "from sklearn.preprocessing import StandardScaler\n",
    "from sklearn.metrics import accuracy_score, classification_report, confusion_matrix\n",
    "\n",
    "\n",
    "features = ['latitude', 'longitude', 'timestamp', 'year', 'month', 'day', 'weekday',\n",
    "            'cdi', 'mmi', 'magnitude', 'sig', 'nst', 'dmin', 'gap', 'depth']\n",
    "target = 'tsunami'\n",
    "\n",
    "X = data[features]\n",
    "y = data[target]\n",
    "\n",
    "\n",
    "X_train, X_test, y_train, y_test = train_test_split(X, y, test_size=0.2, random_state=42)\n",
    "\n",
    "\n",
    "scaler = StandardScaler()\n",
    "X_train = scaler.fit_transform(X_train)\n",
    "X_test = scaler.transform(X_test)\n",
    "\n",
    "\n",
    "model = LogisticRegression()\n",
    "model.fit(X_train, y_train)\n",
    "\n",
    "\n",
    "y_pred = model.predict(X_test)\n",
    "\n",
    "\n",
    "accuracy = accuracy_score(y_test, y_pred)\n",
    "print(f\"Accuracy: {accuracy:.2f}\")\n",
    "\n",
    "print(\"Classification Report:\")\n",
    "print(classification_report(y_test, y_pred))\n",
    "\n",
    "print(\"Confusion Matrix:\")\n",
    "print(confusion_matrix(y_test, y_pred))\n"
   ]
  },
  {
   "cell_type": "code",
   "execution_count": 20,
   "metadata": {
    "colab": {
     "base_uri": "https://localhost:8080/"
    },
    "id": "WXi8rIZQOrO5",
    "outputId": "22021d49-4af3-4772-e49a-147e0739c9ab"
   },
   "outputs": [
    {
     "name": "stdout",
     "output_type": "stream",
     "text": [
      "Prediction: Tsunami in oceanic region\n",
      "Probability of tsunami occurrence: 1.00\n"
     ]
    },
    {
     "name": "stderr",
     "output_type": "stream",
     "text": [
      "C:\\Users\\Asus\\anaconda3\\Lib\\site-packages\\sklearn\\base.py:464: UserWarning: X does not have valid feature names, but StandardScaler was fitted with feature names\n",
      "  warnings.warn(\n"
     ]
    }
   ],
   "source": [
    "\n",
    "def predict_single_data(model, scaler, features, data_point):\n",
    "\n",
    "    data_point_arr = [data_point[feature] for feature in features]\n",
    "    data_point_arr = scaler.transform([data_point_arr])  #\n",
    "\n",
    "\n",
    "    prediction = model.predict(data_point_arr)\n",
    "    probability = model.predict_proba(data_point_arr)\n",
    "\n",
    "    return prediction[0], probability[0][1]\n",
    "\n",
    "\n",
    "individual_data_point = {\n",
    "    'latitude': 40.7128,\n",
    "    'longitude': -74.0060,\n",
    "    'timestamp': 1640380800,\n",
    "    'year': 2022,\n",
    "    'month': 12,\n",
    "    'day': 25,\n",
    "    'weekday': 6,\n",
    "    'cdi': 4.5,\n",
    "    'mmi': 5.0,\n",
    "    'magnitude': 7.2,\n",
    "    'sig': 200,\n",
    "    'nst': 50,\n",
    "    'dmin': 0.2,\n",
    "    'gap': 30,\n",
    "    'depth': 15\n",
    "}\n",
    "\n",
    "prediction, probability = predict_single_data(model, scaler, features, individual_data_point)\n",
    "\n",
    "print(f\"Prediction: {'Tsunami in oceanic region' if prediction == 1 else 'No tsunami or non-oceanic region tsunami'}\")\n",
    "print(f\"Probability of tsunami occurrence: {probability:.2f}\")\n"
   ]
  },
  {
   "cell_type": "code",
   "execution_count": null,
   "metadata": {},
   "outputs": [],
   "source": []
  },
  {
   "cell_type": "code",
   "execution_count": null,
   "metadata": {},
   "outputs": [],
   "source": []
  },
  {
   "cell_type": "code",
   "execution_count": null,
   "metadata": {},
   "outputs": [],
   "source": []
  }
 ],
 "metadata": {
  "colab": {
   "provenance": []
  },
  "kernelspec": {
   "display_name": "Python 3 (ipykernel)",
   "language": "python",
   "name": "python3"
  },
  "language_info": {
   "codemirror_mode": {
    "name": "ipython",
    "version": 3
   },
   "file_extension": ".py",
   "mimetype": "text/x-python",
   "name": "python",
   "nbconvert_exporter": "python",
   "pygments_lexer": "ipython3",
   "version": "3.11.4"
  }
 },
 "nbformat": 4,
 "nbformat_minor": 1
}
